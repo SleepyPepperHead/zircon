{
 "cells": [
  {
   "cell_type": "code",
   "execution_count": 1,
   "metadata": {},
   "outputs": [],
   "source": [
    "%matplotlib inline"
   ]
  },
  {
   "cell_type": "markdown",
   "metadata": {},
   "source": [
    "\n",
    "# Permutation Importance with Multicollinear or Correlated Features\n",
    "\n",
    "\n",
    "In this example, we compute the permutation importance on the Wisconsin\n",
    "breast cancer dataset using :func:`~sklearn.inspection.permutation_importance`.\n",
    "The :class:`~sklearn.ensemble.RandomForestClassifier` can easily get about 97%\n",
    "accuracy on a test dataset. Because this dataset contains multicollinear\n",
    "features, the permutation importance will show that none of the features are\n",
    "important. One approach to handling multicollinearity is by performing\n",
    "hierarchical clustering on the features' Spearman rank-order correlations,\n",
    "picking a threshold, and keeping a single feature from each cluster.\n",
    "\n",
    "<div class=\"alert alert-info\"><h4>Note</h4><p>See also\n",
    "    `sphx_glr_auto_examples_inspection_plot_permutation_importance.py`</p></div>\n"
   ]
  },
  {
   "cell_type": "code",
   "execution_count": 2,
   "metadata": {},
   "outputs": [
    {
     "name": "stdout",
     "output_type": "stream",
     "text": [
      "Automatically created module for IPython interactive environment\n"
     ]
    }
   ],
   "source": [
    "print(__doc__)\n",
    "from collections import defaultdict\n",
    "import pandas as pd\n",
    "\n",
    "import matplotlib.pyplot as plt\n",
    "import numpy as np\n",
    "from scipy.stats import spearmanr\n",
    "from scipy.cluster import hierarchy\n",
    "\n",
    "from sklearn.datasets import load_breast_cancer\n",
    "from sklearn.ensemble import RandomForestClassifier\n",
    "from sklearn.inspection import permutation_importance\n",
    "from sklearn.model_selection import train_test_split"
   ]
  },
  {
   "cell_type": "code",
   "execution_count": 3,
   "metadata": {},
   "outputs": [],
   "source": [
    "# path30 = r'C:\\Users\\yuwan\\Dropbox\\Zotero\\attachments\\Ni et al_2020_A Novel Approach to Identifying Mantle‐Equilibrated Zircon by Using Trace.xlsx'\n",
    "# df = pd.read_excel(path30, header=1)\n",
    "# cols = ['CITATION', 'HOSTROCKTYPE', \n",
    "#         'P', 'Ti', 'Y', 'Nb', 'La', 'Ce', 'Pr',\n",
    "#        'Nd', 'Sm', 'Eu', 'Gd', 'Tb', 'Dy', 'Ho', 'Er', 'Tm', 'Yb', 'Lu', 'Hf',\n",
    "#        'Th', 'U']\n",
    "# df = df.loc[:, cols]\n",
    "# X = df.copy()\n",
    "# groups = X.pop('CITATION')\n",
    "# y = X.pop('HOSTROCKTYPE')\n",
    "# # X = np.log(X)\n",
    "\n",
    "# data = pd.DataFrame()\n",
    "# data['feature_names'] = [ 'P', 'Ti', 'Y', 'Nb', 'La', 'Ce', 'Pr',\n",
    "#        'Nd', 'Sm', 'Eu', 'Gd', 'Tb', 'Dy', 'Ho', 'Er', 'Tm', 'Yb', 'Lu', 'Hf',\n",
    "#        'Th', 'U']"
   ]
  },
  {
   "cell_type": "code",
   "execution_count": 4,
   "metadata": {},
   "outputs": [],
   "source": [
    "df = pd.read_excel(r'C:\\Users\\yuwan\\Dropbox\\workspace-ol\\quartz_classifier\\Table S2.xlsx')\n",
    "cols5 = ['qtype','Al', 'Ti', 'Li','Ge', 'Sr']\n",
    "for ele in cols5[1:]:\n",
    "    df[ele] = pd.to_numeric(df[ele], errors='coerce')\n",
    "df5 = df.loc[: , cols5].dropna()\n",
    "\n",
    "X = df5.drop('qtype', axis=1).astype(float)\n",
    "y = df5['qtype']\n",
    "data = pd.DataFrame()\n",
    "data['feature_names'] = cols5[1:]"
   ]
  },
  {
   "cell_type": "markdown",
   "metadata": {},
   "source": [
    "Random Forest Feature Importance on Breast Cancer Data\n",
    "------------------------------------------------------\n",
    "First, we train a random forest on the breast cancer dataset and evaluate\n",
    "its accuracy on a test set:\n",
    "\n"
   ]
  },
  {
   "cell_type": "code",
   "execution_count": 5,
   "metadata": {},
   "outputs": [
    {
     "name": "stdout",
     "output_type": "stream",
     "text": [
      "Accuracy on test data: 0.83\n"
     ]
    }
   ],
   "source": [
    "# data = load_breast_cancer()\n",
    "# X, y = data.data, data.target\n",
    "X_train, X_test, y_train, y_test = train_test_split(X, y, random_state=42)\n",
    "\n",
    "clf = RandomForestClassifier(n_estimators=200, random_state=42)\n",
    "clf.fit(X_train, y_train)\n",
    "print(\"Accuracy on test data: {:.2f}\".format(clf.score(X_test, y_test)))\n"
   ]
  },
  {
   "cell_type": "markdown",
   "metadata": {},
   "source": [
    "Next, we plot the tree based feature importance and the permutation\n",
    "importance. The permutation importance plot shows that permuting a feature\n",
    "drops the accuracy by at most `0.012`, which would suggest that none of the\n",
    "features are important. This is in contradiction with the high test accuracy\n",
    "computed above: some feature must be important. The permutation importance\n",
    "is calculated on the training set to show how much the model relies on each\n",
    "feature during training.\n",
    "\n"
   ]
  },
  {
   "cell_type": "code",
   "execution_count": 6,
   "metadata": {},
   "outputs": [
    {
     "name": "stderr",
     "output_type": "stream",
     "text": [
      "c:\\python37\\lib\\site-packages\\ipykernel_launcher.py:11: UserWarning: FixedFormatter should only be used together with FixedLocator\n",
      "  # This is added back by InteractiveShellApp.init_path()\n"
     ]
    },
    {
     "data": {
      "image/png": "[encoded data removed]",
      "text/plain": [
       "<Figure size 864x576 with 2 Axes>"
      ]
     },
     "metadata": {
      "needs_background": "light"
     },
     "output_type": "display_data"
    }
   ],
   "source": [
    "result = permutation_importance(clf, X_train, y_train, n_repeats=100, n_jobs=-1,\n",
    "                                random_state=42)\n",
    "perm_sorted_idx = result.importances_mean.argsort()\n",
    "\n",
    "tree_importance_sorted_idx = np.argsort(clf.feature_importances_)\n",
    "tree_indices = np.arange(0, len(clf.feature_importances_)) + 0.5\n",
    "\n",
    "fig, (ax1, ax2) = plt.subplots(1, 2, figsize=(12, 8))\n",
    "ax1.barh(tree_indices,\n",
    "         clf.feature_importances_[tree_importance_sorted_idx], height=0.7)\n",
    "ax1.set_yticklabels(data.feature_names[tree_importance_sorted_idx])\n",
    "ax1.set_yticks(tree_indices)\n",
    "ax1.set_ylim((0, len(clf.feature_importances_)))\n",
    "ax2.boxplot(result.importances[perm_sorted_idx].T, vert=False,\n",
    "            labels=data.feature_names[perm_sorted_idx])\n",
    "fig.tight_layout()\n",
    "plt.show()"
   ]
  },
  {
   "cell_type": "markdown",
   "metadata": {},
   "source": [
    "Handling Multicollinear Features\n",
    "--------------------------------\n",
    "When features are collinear, permutating one feature will have little\n",
    "effect on the models performance because it can get the same information\n",
    "from a correlated feature. One way to handle multicollinear features is by\n",
    "performing hierarchical clustering on the Spearman rank-order correlations,\n",
    "picking a threshold, and keeping a single feature from each cluster. First,\n",
    "we plot a heatmap of the correlated features:\n",
    "\n"
   ]
  },
  {
   "cell_type": "code",
   "execution_count": 7,
   "metadata": {},
   "outputs": [
    {
     "data": {
      "image/png": "[encoded data removed]",
      "text/plain": [
       "<Figure size 864x576 with 2 Axes>"
      ]
     },
     "metadata": {
      "needs_background": "light"
     },
     "output_type": "display_data"
    }
   ],
   "source": [
    "fig, (ax1, ax2) = plt.subplots(1, 2, figsize=(12, 8))\n",
    "corr = spearmanr(X).correlation\n",
    "corr_linkage = hierarchy.ward(corr)\n",
    "dendro = hierarchy.dendrogram(\n",
    "    corr_linkage, labels=data.feature_names.tolist(), ax=ax1, leaf_rotation=90\n",
    ")\n",
    "dendro_idx = np.arange(0, len(dendro['ivl']))\n",
    "\n",
    "ax2.imshow(corr[dendro['leaves'], :][:, dendro['leaves']])\n",
    "ax2.set_xticks(dendro_idx)\n",
    "ax2.set_yticks(dendro_idx)\n",
    "ax2.set_xticklabels(dendro['ivl'], rotation='vertical')\n",
    "ax2.set_yticklabels(dendro['ivl'])\n",
    "fig.tight_layout()\n",
    "plt.show()\n",
    "# dendro"
   ]
  },
  {
   "cell_type": "markdown",
   "metadata": {},
   "source": [
    "Next, we manually pick a threshold by visual inspection of the dendrogram\n",
    "to group our features into clusters and choose a feature from each cluster to\n",
    "keep, select those features from our dataset, and train a new random forest.\n",
    "The test accuracy of the new random forest did not change much compared to\n",
    "the random forest trained on the complete dataset.\n",
    "\n"
   ]
  },
  {
   "cell_type": "code",
   "execution_count": 9,
   "metadata": {},
   "outputs": [
    {
     "name": "stdout",
     "output_type": "stream",
     "text": [
      "[1, 2, 3, 4]\n",
      "Ti\n",
      "Li\n",
      "Ge\n",
      "Sr\n",
      "Accuracy on test data with features removed: 0.80\n"
     ]
    },
    {
     "data": {
      "text/html": [
       "<div>\n",
       "<style scoped>\n",
       "    .dataframe tbody tr th:only-of-type {\n",
       "        vertical-align: middle;\n",
       "    }\n",
       "\n",
       "    .dataframe tbody tr th {\n",
       "        vertical-align: top;\n",
       "    }\n",
       "\n",
       "    .dataframe thead th {\n",
       "        text-align: right;\n",
       "    }\n",
       "</style>\n",
       "<table border=\"1\" class=\"dataframe\">\n",
       "  <thead>\n",
       "    <tr style=\"text-align: right;\">\n",
       "      <th></th>\n",
       "      <th>Ti</th>\n",
       "      <th>Li</th>\n",
       "      <th>Ge</th>\n",
       "      <th>Sr</th>\n",
       "    </tr>\n",
       "  </thead>\n",
       "  <tbody>\n",
       "    <tr>\n",
       "      <th>64</th>\n",
       "      <td>0.180948</td>\n",
       "      <td>32.827867</td>\n",
       "      <td>3.058704</td>\n",
       "      <td>0.007494</td>\n",
       "    </tr>\n",
       "    <tr>\n",
       "      <th>1570</th>\n",
       "      <td>0.300000</td>\n",
       "      <td>0.410000</td>\n",
       "      <td>1.050000</td>\n",
       "      <td>0.130000</td>\n",
       "    </tr>\n",
       "    <tr>\n",
       "      <th>4217</th>\n",
       "      <td>14.190000</td>\n",
       "      <td>0.530000</td>\n",
       "      <td>1.040000</td>\n",
       "      <td>0.535000</td>\n",
       "    </tr>\n",
       "    <tr>\n",
       "      <th>1692</th>\n",
       "      <td>5.670000</td>\n",
       "      <td>270.880000</td>\n",
       "      <td>1.390000</td>\n",
       "      <td>0.028400</td>\n",
       "    </tr>\n",
       "    <tr>\n",
       "      <th>2770</th>\n",
       "      <td>9.210000</td>\n",
       "      <td>8.590000</td>\n",
       "      <td>0.810000</td>\n",
       "      <td>0.420000</td>\n",
       "    </tr>\n",
       "    <tr>\n",
       "      <th>...</th>\n",
       "      <td>...</td>\n",
       "      <td>...</td>\n",
       "      <td>...</td>\n",
       "      <td>...</td>\n",
       "    </tr>\n",
       "    <tr>\n",
       "      <th>3317</th>\n",
       "      <td>1.540000</td>\n",
       "      <td>0.297000</td>\n",
       "      <td>1.440000</td>\n",
       "      <td>0.002000</td>\n",
       "    </tr>\n",
       "    <tr>\n",
       "      <th>4167</th>\n",
       "      <td>15.350000</td>\n",
       "      <td>0.390000</td>\n",
       "      <td>1.610000</td>\n",
       "      <td>0.109000</td>\n",
       "    </tr>\n",
       "    <tr>\n",
       "      <th>2635</th>\n",
       "      <td>0.800000</td>\n",
       "      <td>63.700000</td>\n",
       "      <td>1.240000</td>\n",
       "      <td>0.030000</td>\n",
       "    </tr>\n",
       "    <tr>\n",
       "      <th>4355</th>\n",
       "      <td>24.200000</td>\n",
       "      <td>5.790000</td>\n",
       "      <td>1.900000</td>\n",
       "      <td>0.020000</td>\n",
       "    </tr>\n",
       "    <tr>\n",
       "      <th>3313</th>\n",
       "      <td>1.700000</td>\n",
       "      <td>0.915000</td>\n",
       "      <td>1.890000</td>\n",
       "      <td>0.026000</td>\n",
       "    </tr>\n",
       "  </tbody>\n",
       "</table>\n",
       "<p>1267 rows × 4 columns</p>\n",
       "</div>"
      ],
      "text/plain": [
       "             Ti          Li        Ge        Sr\n",
       "64     0.180948   32.827867  3.058704  0.007494\n",
       "1570   0.300000    0.410000  1.050000  0.130000\n",
       "4217  14.190000    0.530000  1.040000  0.535000\n",
       "1692   5.670000  270.880000  1.390000  0.028400\n",
       "2770   9.210000    8.590000  0.810000  0.420000\n",
       "...         ...         ...       ...       ...\n",
       "3317   1.540000    0.297000  1.440000  0.002000\n",
       "4167  15.350000    0.390000  1.610000  0.109000\n",
       "2635   0.800000   63.700000  1.240000  0.030000\n",
       "4355  24.200000    5.790000  1.900000  0.020000\n",
       "3313   1.700000    0.915000  1.890000  0.026000\n",
       "\n",
       "[1267 rows x 4 columns]"
      ]
     },
     "execution_count": 9,
     "metadata": {},
     "output_type": "execute_result"
    }
   ],
   "source": [
    "cluster_ids = hierarchy.fcluster(corr_linkage, 1, criterion='distance',depth=2)\n",
    "cluster_id_to_feature_ids = defaultdict(list)\n",
    "for idx, cluster_id in enumerate(cluster_ids):\n",
    "    cluster_id_to_feature_ids[cluster_id].append(idx)\n",
    "selected_features = [v[0] for v in cluster_id_to_feature_ids.values()]\n",
    "selected_features = [1, 2, 3, 4]\n",
    "print(selected_features)\n",
    "for i in selected_features:\n",
    "    print(X.columns[i])\n",
    "\n",
    "X_train_sel = X_train.iloc[:, selected_features]\n",
    "X_test_sel = X_test.iloc[:, selected_features]\n",
    "\n",
    "clf_sel = RandomForestClassifier(n_estimators=200, random_state=42)\n",
    "clf_sel.fit(X_train_sel, y_train)\n",
    "print(\"Accuracy on test data with features removed: {:.2f}\".format(\n",
    "      clf_sel.score(X_test_sel, y_test)))\n",
    "X_train_sel"
   ]
  },
  {
   "cell_type": "code",
   "execution_count": 10,
   "metadata": {},
   "outputs": [
    {
     "name": "stderr",
     "output_type": "stream",
     "text": [
      "c:\\python37\\lib\\site-packages\\ipykernel_launcher.py:14: UserWarning: FixedFormatter should only be used together with FixedLocator\n",
      "  \n"
     ]
    },
    {
     "data": {
      "image/png": "[encoded data removed]",
      "text/plain": [
       "<Figure size 864x576 with 2 Axes>"
      ]
     },
     "metadata": {
      "needs_background": "light"
     },
     "output_type": "display_data"
    }
   ],
   "source": [
    "data2 = pd.DataFrame()\n",
    "data2['feature_names'] = [X.columns[i] for i in selected_features]\n",
    "\n",
    "result = permutation_importance(clf_sel, X_train_sel, y_train, n_repeats=100,\n",
    "                                n_jobs=-1, random_state=42)\n",
    "perm_sorted_idx = result.importances_mean.argsort()\n",
    "\n",
    "tree_importance_sorted_idx = np.argsort(clf_sel.feature_importances_)\n",
    "tree_indices = np.arange(0, len(clf_sel.feature_importances_)) + 0.5\n",
    "\n",
    "fig, (ax1, ax2) = plt.subplots(1, 2, figsize=(12, 8))\n",
    "ax1.barh(tree_indices,\n",
    "         clf_sel.feature_importances_[tree_importance_sorted_idx], height=0.7)\n",
    "ax1.set_yticklabels(data2.feature_names[tree_importance_sorted_idx])\n",
    "ax1.set_yticks(tree_indices)\n",
    "ax1.set_ylim((0, len(clf_sel.feature_importances_)))\n",
    "ax2.boxplot(result.importances[perm_sorted_idx].T, vert=False,\n",
    "            labels=data2.feature_names[perm_sorted_idx])\n",
    "fig.tight_layout()\n",
    "plt.show()"
   ]
  },
  {
   "cell_type": "code",
   "execution_count": null,
   "metadata": {},
   "outputs": [],
   "source": []
  },
  {
   "cell_type": "code",
   "execution_count": null,
   "metadata": {},
   "outputs": [],
   "source": []
  }
 ],
 "metadata": {
  "kernelspec": {
   "display_name": "Python 3",
   "language": "python",
   "name": "python3"
  },
  "language_info": {
   "codemirror_mode": {
    "name": "ipython",
    "version": 3
   },
   "file_extension": ".py",
   "mimetype": "text/x-python",
   "name": "python",
   "nbconvert_exporter": "python",
   "pygments_lexer": "ipython3",
   "version": "3.7.9"
  }
 },
 "nbformat": 4,
 "nbformat_minor": 1
}